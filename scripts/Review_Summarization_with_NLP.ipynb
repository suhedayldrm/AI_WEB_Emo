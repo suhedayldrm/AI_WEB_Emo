{
 "cells": [
  {
   "cell_type": "markdown",
   "metadata": {},
   "source": [
    "# **Analysis of Customer Reviews**\n",
    "\n",
    "In this section, we will analyze customer reviews from various Starbucks locations. \n",
    "We do this as a manager responsible for Starbucks in the state of Florida. Our goal is to identify common themes and sentiments among the reviews.\n",
    "\n",
    "**Objectives**:\n",
    "- Summarize key aspects of customer feedback.\n",
    "- Compare how locations within Florida compare to other locations.\n",
    "- Understand what we are doing well and what we can improve on, based on customer feedback.\n",
    "\n",
    "As we dig deeper, we'll use Natural Language Processing (NLP) techniques to extract meaningful insights.\n",
    "\n",
    "---\n"
   ]
  },
  {
   "cell_type": "markdown",
   "metadata": {},
   "source": [
    "### **1.** Organize and setup\n",
    "<br>First step is to organize the setup and load the data we will be using."
   ]
  },
  {
   "cell_type": "code",
   "execution_count": 26,
   "metadata": {},
   "outputs": [],
   "source": [
    "# Data manipulation and analysis\n",
    "import pandas as pd\n",
    "import numpy as np\n",
    "import spacy\n",
    "\n",
    "# Visualization\n",
    "import matplotlib.pyplot as plt\n",
    "import matplotlib.dates as mdates\n",
    "import seaborn as sns\n",
    "\n",
    "# NLP and AI tools\n",
    "import openai\n"
   ]
  },
  {
   "cell_type": "code",
   "execution_count": 27,
   "metadata": {},
   "outputs": [],
   "source": [
    "# Import data\n",
    "\n",
    "# Load the environment variables from .env file\n",
    "import os\n",
    "from dotenv import load_dotenv\n",
    "load_dotenv()\n",
    "\n",
    "# Get the API key\n",
    "API_KEY = os.getenv(\"OPENAI_API_KEY\")\n",
    "\n",
    "# Import the data\n",
    "file_path_reviews = os.getenv('file_path_reviews')\n",
    "starbucks_reviews = pd.read_csv(file_path_reviews)\n",
    "\n",
    "# Remove the 'name' column to avoid displaying customer information\n",
    "starbucks_reviews = starbucks_reviews.drop(columns=['name'])"
   ]
  },
  {
   "cell_type": "markdown",
   "metadata": {},
   "source": [
    "### **2.** Clean and anonymize data\n",
    "To protect sensitive or personal information, we will clean and anonymize the data in this step.\n",
    "\n",
    "<br>Steps: \n",
    "1. **Preprocess Review Text**: Apply text cleaning techniques to the review text, including converting to lowercase, removing punctuation, eliminating stopwords, and lemmatizing words. This step helps reduce noise and redundancy in the text data, making it more suitable for subsequent analysis tasks like sentiment analysis and summarization.\n",
    "2. **Anonymize Personal Information**: Identify and replace sensitive information such as phone numbers, names, and URLs with placeholder values to protect privacy. Subsequently, remove consecutive placeholders to reduce clutter.\n",
    "3. **Clean and Transform Date Values**: Convert the existing date format, \"Reviewed July 13, 2022,\" to a standardized format, such as \"2022-07-13,\" for consistent representation and easier analysis.\n",
    "4. **Clean Location Data**: Extract state and country information from the location values, providing a more structured representation of customer locations."
   ]
  },
  {
   "cell_type": "markdown",
   "metadata": {},
   "source": [
    "**2.1** _Preprocess Review Text: Apply text cleaning techniques to the review text._"
   ]
  },
  {
   "cell_type": "code",
   "execution_count": 28,
   "metadata": {},
   "outputs": [],
   "source": [
    "from preprocess import preprocess_text\n",
    "\n",
    "# Apply the preprocessing function to the 'Review' column\n",
    "starbucks_reviews['Review'] = starbucks_reviews['Review'].apply(preprocess_text)"
   ]
  },
  {
   "cell_type": "markdown",
   "metadata": {},
   "source": [
    "**2.2** _Anonymize Personal Information: Identify and replace sensitive information._"
   ]
  },
  {
   "cell_type": "code",
   "execution_count": 29,
   "metadata": {},
   "outputs": [
    {
     "name": "stdout",
     "output_type": "stream",
     "text": [
      "0    [org] always warm welcoming always smile voice...\n",
      "1    starbucks fire station 436 altamonte spring fl...\n",
      "2    wanted go way recognize starbucks employee [pe...\n",
      "3    friend starbucks card ’ work thankful worker p...\n",
      "4    ’ kick drinking  cup warm water work instacart...\n",
      "Name: Review, dtype: object\n"
     ]
    }
   ],
   "source": [
    "# Anonymize the reviews including names, phone numbers, url's etc\n",
    "\n",
    "# Load the spaCy model\n",
    "nlp = spacy.load(\"en_core_web_sm\")\n",
    "\n",
    "# Import the anonimization function\n",
    "from text_anonymization import anonymize_text\n",
    "\n",
    "# Apply the anonymization of the reviews\n",
    "starbucks_reviews['Review'] = starbucks_reviews['Review'].apply(lambda x: anonymize_text(x, nlp))\n",
    "\n",
    "# Check result of anonymization \n",
    "print(starbucks_reviews['Review'].head(5))"
   ]
  },
  {
   "cell_type": "code",
   "execution_count": 30,
   "metadata": {},
   "outputs": [],
   "source": [
    "# Remove consecutive placeholders from text strings to avoid multiple placeholders in a row, reducing clutter.\n",
    "\n",
    "import re\n",
    "\n",
    "def remove_consecutive_placeholders(text):\n",
    "    \"\"\"\n",
    "    Remove consecutive occurrences of the same placeholder.\n",
    "    \"\"\"\n",
    "    # Replace consecutive occurrences of [name] with a single [name]\n",
    "    text = re.sub(r'(\\[name\\] ?)+', '[name] ', text)\n",
    "    \n",
    "    # Replace consecutive occurrences of [address] with a single [address]\n",
    "    text = re.sub(r'(\\[address\\] ?)+', '[address] ', text)\n",
    "\n",
    "    # Replace consecutive occurrences of [name] with a single [name]\n",
    "    text = re.sub(r'(\\[org\\] ?)+', '[org] ', text)\n",
    "    \n",
    "    # Replace consecutive occurrences of [address] with a single [address]\n",
    "    text = re.sub(r'(\\[email\\] ?)+', '[email] ', text)\n",
    "\n",
    "        # Replace consecutive occurrences of [address] with a single [address]\n",
    "    text = re.sub(r'(\\[phone\\] ?)+', '[phone] ', text)\n",
    "\n",
    "    # Replace consecutive occurrences of [address] with a single [address]\n",
    "    text = re.sub(r'(\\[url\\] ?)+', '[url] ', text)\n",
    "    \n",
    "    return text.strip()\n",
    "\n",
    "# Apply the function to the 'Cleaned_Anonymized_Review' column\n",
    "starbucks_reviews['Review'] = starbucks_reviews['Review'].apply(remove_consecutive_placeholders)\n",
    "\n"
   ]
  },
  {
   "cell_type": "markdown",
   "metadata": {},
   "source": [
    "**2.3** _Clean and Transform Date Values: Convert the existing date format. \"Reviewed July 13, 2022\" which we will transform to \"2022-07-13\"._"
   ]
  },
  {
   "cell_type": "code",
   "execution_count": 31,
   "metadata": {},
   "outputs": [
    {
     "name": "stdout",
     "output_type": "stream",
     "text": [
      "0    2023-09-13\n",
      "1    2023-07-16\n",
      "2    2023-07-05\n",
      "3    2023-05-26\n",
      "4    2023-01-22\n",
      "Name: Date, dtype: object\n"
     ]
    }
   ],
   "source": [
    "# To look at ratings over time we need to adjust the 'Date' column since the values are formatted in a way that can't transform it \n",
    "# into dates. For example \"Reviewed July 13, 2022\" and \"Reviewed Sept. 27, 2015\".\n",
    "\n",
    "import datetime\n",
    "\n",
    "def transform_date(date_string):\n",
    "    # Remove any leading/trailing whitespaces and the 'Reviewed ' prefix\n",
    "    date_string = date_string.strip()\n",
    "    if date_string.startswith(\"Reviewed \"):\n",
    "        date_string = date_string.replace(\"Reviewed \", \"\")\n",
    "\n",
    "    # Split the date string based on the comma\n",
    "    date_parts = date_string.split(\", \")\n",
    "    \n",
    "    # Extract the month and day part, and the year\n",
    "    month_day, year = date_parts\n",
    "    month_day_parts = month_day.split(\" \")\n",
    "    \n",
    "    # Handle different month formats\n",
    "    month = month_day_parts[0].rstrip(\".\").title()  # Title case to standardize month names\n",
    "    day = month_day_parts[1]\n",
    "\n",
    "    # Special handling for the 'Sept' abbreviation\n",
    "    if month == 'Sept':\n",
    "        month = 'Sep'\n",
    "\n",
    "    # Try parsing with both short and full month names\n",
    "    try:\n",
    "        month_number = datetime.datetime.strptime(month, \"%b\").month\n",
    "    except ValueError:\n",
    "        month_number = datetime.datetime.strptime(month, \"%B\").month\n",
    "\n",
    "    # Create a datetime object\n",
    "    transformed_date = datetime.datetime(int(year), month_number, int(day))\n",
    "\n",
    "    # Format the date as desired\n",
    "    formatted_date = transformed_date.strftime(\"%Y-%m-%d\")\n",
    "    \n",
    "    return formatted_date\n",
    "\n",
    "# Apply the transform_date function to the \"Date\" column\n",
    "starbucks_reviews[\"Date\"] = starbucks_reviews[\"Date\"].apply(transform_date)\n",
    "# Print the updated DataFrame\n",
    "#print(starbucks_reviews)\n",
    "print(starbucks_reviews['Date'].head(5))\n"
   ]
  },
  {
   "cell_type": "markdown",
   "metadata": {},
   "source": [
    "**2.4** _Clean Location Data: Extract state and country information._"
   ]
  },
  {
   "cell_type": "code",
   "execution_count": 32,
   "metadata": {},
   "outputs": [],
   "source": [
    "# Step to clean the location data and extract state and country from the location.\n",
    "\n",
    "# Dictionary to map full state names to abbreviations\n",
    "from clean_categorize_locations import clean_and_categorize_states"
   ]
  },
  {
   "cell_type": "code",
   "execution_count": 33,
   "metadata": {},
   "outputs": [
    {
     "name": "stdout",
     "output_type": "stream",
     "text": [
      "Unique states: ['TX' 'FL' 'PA' 'WA' 'OR' 'NC' 'MD' 'OTHER' 'CA' 'OH' 'HI' 'NJ' 'GA' 'DC'\n",
      " 'AZ' 'MA' 'VA' 'NV' 'TN' 'IA' 'WI' 'NH' 'AR' 'MN' 'IN' 'MO' 'IL' 'MI'\n",
      " 'MS' 'CO' 'OK' 'UT' 'KY' 'ME' 'KS' 'ON' 'BC' 'NY' 'NE' 'AK' 'AB' 'ID'\n",
      " 'CANADA' 'LA' 'UK' 'UNITED KINGDOM' 'SC' 'MB' 'SK' 'WY' 'SASKATCHEWAN'\n",
      " 'NL' 'NM' 'ALBERTA' 'ALA' 'WV' 'WI.' 'NS' 'ND' 'RI' 'AL' 'QC' 'MT' 'CT'\n",
      " 'NO OTHER LINE NEEDED' 'BECCLES']\n",
      "Unique countries: ['USA' 'Other']\n"
     ]
    }
   ],
   "source": [
    "# Use the function\n",
    "starbucks_reviews = clean_and_categorize_states(starbucks_reviews, 'location')"
   ]
  },
  {
   "cell_type": "markdown",
   "metadata": {},
   "source": [
    "### **3.** Reviewing the dataset\n",
    "\n",
    "Here we see an overview of our data. Each review includes the location, date, rating, text, and sometimes an image."
   ]
  },
  {
   "cell_type": "code",
   "execution_count": 34,
   "metadata": {},
   "outputs": [
    {
     "data": {
      "text/html": [
       "<div>\n",
       "<style scoped>\n",
       "    .dataframe tbody tr th:only-of-type {\n",
       "        vertical-align: middle;\n",
       "    }\n",
       "\n",
       "    .dataframe tbody tr th {\n",
       "        vertical-align: top;\n",
       "    }\n",
       "\n",
       "    .dataframe thead th {\n",
       "        text-align: right;\n",
       "    }\n",
       "</style>\n",
       "<table border=\"1\" class=\"dataframe\">\n",
       "  <thead>\n",
       "    <tr style=\"text-align: right;\">\n",
       "      <th></th>\n",
       "      <th>location</th>\n",
       "      <th>Date</th>\n",
       "      <th>Rating</th>\n",
       "      <th>Review</th>\n",
       "      <th>Image_Links</th>\n",
       "      <th>State</th>\n",
       "      <th>Country</th>\n",
       "    </tr>\n",
       "  </thead>\n",
       "  <tbody>\n",
       "    <tr>\n",
       "      <th>0</th>\n",
       "      <td>Wichita Falls, TX</td>\n",
       "      <td>2023-09-13</td>\n",
       "      <td>5.0</td>\n",
       "      <td>[org] always warm welcoming always smile voice...</td>\n",
       "      <td>['No Images']</td>\n",
       "      <td>TX</td>\n",
       "      <td>USA</td>\n",
       "    </tr>\n",
       "    <tr>\n",
       "      <th>1</th>\n",
       "      <td>Apopka, FL</td>\n",
       "      <td>2023-07-16</td>\n",
       "      <td>5.0</td>\n",
       "      <td>starbucks fire station 436 altamonte spring fl...</td>\n",
       "      <td>['No Images']</td>\n",
       "      <td>FL</td>\n",
       "      <td>USA</td>\n",
       "    </tr>\n",
       "    <tr>\n",
       "      <th>2</th>\n",
       "      <td>Cranberry Twp, PA</td>\n",
       "      <td>2023-07-05</td>\n",
       "      <td>5.0</td>\n",
       "      <td>wanted go way recognize starbucks employee [pe...</td>\n",
       "      <td>['https://media.consumeraffairs.com/files/cach...</td>\n",
       "      <td>PA</td>\n",
       "      <td>USA</td>\n",
       "    </tr>\n",
       "    <tr>\n",
       "      <th>3</th>\n",
       "      <td>Seattle, WA</td>\n",
       "      <td>2023-05-26</td>\n",
       "      <td>5.0</td>\n",
       "      <td>friend starbucks card ’ work thankful worker p...</td>\n",
       "      <td>['No Images']</td>\n",
       "      <td>WA</td>\n",
       "      <td>USA</td>\n",
       "    </tr>\n",
       "    <tr>\n",
       "      <th>4</th>\n",
       "      <td>Gresham, OR</td>\n",
       "      <td>2023-01-22</td>\n",
       "      <td>5.0</td>\n",
       "      <td>’ kick drinking  cup warm water work instacart...</td>\n",
       "      <td>['https://media.consumeraffairs.com/files/cach...</td>\n",
       "      <td>OR</td>\n",
       "      <td>USA</td>\n",
       "    </tr>\n",
       "  </tbody>\n",
       "</table>\n",
       "</div>"
      ],
      "text/plain": [
       "            location        Date  Rating  \\\n",
       "0  Wichita Falls, TX  2023-09-13     5.0   \n",
       "1         Apopka, FL  2023-07-16     5.0   \n",
       "2  Cranberry Twp, PA  2023-07-05     5.0   \n",
       "3        Seattle, WA  2023-05-26     5.0   \n",
       "4        Gresham, OR  2023-01-22     5.0   \n",
       "\n",
       "                                              Review  \\\n",
       "0  [org] always warm welcoming always smile voice...   \n",
       "1  starbucks fire station 436 altamonte spring fl...   \n",
       "2  wanted go way recognize starbucks employee [pe...   \n",
       "3  friend starbucks card ’ work thankful worker p...   \n",
       "4  ’ kick drinking  cup warm water work instacart...   \n",
       "\n",
       "                                         Image_Links State Country  \n",
       "0                                      ['No Images']    TX     USA  \n",
       "1                                      ['No Images']    FL     USA  \n",
       "2  ['https://media.consumeraffairs.com/files/cach...    PA     USA  \n",
       "3                                      ['No Images']    WA     USA  \n",
       "4  ['https://media.consumeraffairs.com/files/cach...    OR     USA  "
      ]
     },
     "execution_count": 34,
     "metadata": {},
     "output_type": "execute_result"
    }
   ],
   "source": [
    "# Inspect the dataset\n",
    "starbucks_reviews.head()"
   ]
  },
  {
   "cell_type": "markdown",
   "metadata": {},
   "source": [
    "**Ratings Overview**\n",
    "\n",
    "The majority of customers gave low ratings on the Starbucks customer reviews, indicating dissatisfaction with their experience. This suggests that there are areas where Starbucks can improve its customer satisfaction.\n",
    "The low average rating and skewed distribution of ratings further support this conclusion.\n",
    "\n",
    "To clarify what's causing issues and what actions we can take to improve, we'll analyze reviews to find out what's causing customers to have negative experiences."
   ]
  },
  {
   "cell_type": "code",
   "execution_count": 10,
   "metadata": {},
   "outputs": [
    {
     "data": {
      "text/html": [
       "<div>\n",
       "<style scoped>\n",
       "    .dataframe tbody tr th:only-of-type {\n",
       "        vertical-align: middle;\n",
       "    }\n",
       "\n",
       "    .dataframe tbody tr th {\n",
       "        vertical-align: top;\n",
       "    }\n",
       "\n",
       "    .dataframe thead th {\n",
       "        text-align: right;\n",
       "    }\n",
       "</style>\n",
       "<table border=\"1\" class=\"dataframe\">\n",
       "  <thead>\n",
       "    <tr style=\"text-align: right;\">\n",
       "      <th></th>\n",
       "      <th>Rating</th>\n",
       "    </tr>\n",
       "  </thead>\n",
       "  <tbody>\n",
       "    <tr>\n",
       "      <th>count</th>\n",
       "      <td>705.000000</td>\n",
       "    </tr>\n",
       "    <tr>\n",
       "      <th>mean</th>\n",
       "      <td>1.870922</td>\n",
       "    </tr>\n",
       "    <tr>\n",
       "      <th>std</th>\n",
       "      <td>1.397672</td>\n",
       "    </tr>\n",
       "    <tr>\n",
       "      <th>min</th>\n",
       "      <td>1.000000</td>\n",
       "    </tr>\n",
       "    <tr>\n",
       "      <th>25%</th>\n",
       "      <td>1.000000</td>\n",
       "    </tr>\n",
       "    <tr>\n",
       "      <th>50%</th>\n",
       "      <td>1.000000</td>\n",
       "    </tr>\n",
       "    <tr>\n",
       "      <th>75%</th>\n",
       "      <td>2.000000</td>\n",
       "    </tr>\n",
       "    <tr>\n",
       "      <th>max</th>\n",
       "      <td>5.000000</td>\n",
       "    </tr>\n",
       "  </tbody>\n",
       "</table>\n",
       "</div>"
      ],
      "text/plain": [
       "           Rating\n",
       "count  705.000000\n",
       "mean     1.870922\n",
       "std      1.397672\n",
       "min      1.000000\n",
       "25%      1.000000\n",
       "50%      1.000000\n",
       "75%      2.000000\n",
       "max      5.000000"
      ]
     },
     "execution_count": 10,
     "metadata": {},
     "output_type": "execute_result"
    }
   ],
   "source": [
    "# Bascic stats of the ratings\n",
    "starbucks_reviews.describe()"
   ]
  },
  {
   "cell_type": "markdown",
   "metadata": {},
   "source": [
    "### **4.** Exploratory data analysis. \n",
    "In this step we take a closer look at the ratings:\n",
    "1. What is the distribution between the scores for the US?\n",
    "2. Is the average rating for the US improving or declining?\n",
    "3. What is the distribution between the different experiences categories?\n",
    "4. Is the experience scored differently for our state compared to the rest of the US?"
   ]
  },
  {
   "cell_type": "markdown",
   "metadata": {},
   "source": [
    "**4.1** _What is the distribution of US customer ratings?_\n",
    "<br>This chart displays the ratings of all reviews in the US. \n",
    "Most customers are dissatisfied with their Starbucks experience, as we saw earlier. \n",
    "<br>Only a small number of customers report being happy with their Starbucks experience."
   ]
  },
  {
   "cell_type": "code",
   "execution_count": 14,
   "metadata": {},
   "outputs": [
    {
     "data": {
      "image/png": "[encoded data removed]",
      "text/plain": [
       "<Figure size 1000x600 with 1 Axes>"
      ]
     },
     "metadata": {},
     "output_type": "display_data"
    },
    {
     "name": "stdout",
     "output_type": "stream",
     "text": [
      "        Count  Percentage of all ratings\n",
      "Rating                                  \n",
      "1.0       401                      64.16\n",
      "2.0        90                      14.40\n",
      "5.0        71                      11.36\n",
      "4.0        34                       5.44\n",
      "3.0        29                       4.64\n"
     ]
    }
   ],
   "source": [
    "# Count of each rating\n",
    "us_reviews = starbucks_reviews[starbucks_reviews['Country'] == 'USA']\n",
    "rating_counts = us_reviews['Rating'].value_counts()\n",
    "\n",
    "# Percentage of each rating\n",
    "rating_percentages = us_reviews['Rating'].value_counts(normalize=True) * 100\n",
    "\n",
    "# Combine counts and percentages\n",
    "combined_info = pd.DataFrame({\n",
    "    'Count': rating_counts,\n",
    "    'Percentage of all ratings': rating_percentages\n",
    "})\n",
    "# Vizualistation of the distribution of all ratings\n",
    "plt.figure(figsize=(10, 6))\n",
    "sns.countplot(data=us_reviews, x='Rating')\n",
    "plt.title('Distribution of All Ratings')\n",
    "plt.xlabel('Rating')\n",
    "plt.ylabel('Count')\n",
    "plt.show()\n",
    "\n",
    "print(combined_info)\n"
   ]
  },
  {
   "cell_type": "markdown",
   "metadata": {},
   "source": [
    "**4.2** Is the average rating in the USA getting better or worse?\n",
    "<br> Looking at the graph of the average rating over time, it appears that the rating is improving.\n",
    "We also notice some patterns and occasional interruptions in the line. These interruptions could be because of different reasons such as changes in what customers want, new products or services, or changes in seasons."
   ]
  },
  {
   "cell_type": "code",
   "execution_count": 35,
   "metadata": {},
   "outputs": [
    {
     "data": {
      "image/png": "[encoded data removed]",
      "text/plain": [
       "<Figure size 1200x600 with 1 Axes>"
      ]
     },
     "metadata": {},
     "output_type": "display_data"
    }
   ],
   "source": [
    "# Plot for number of reviews over time\n",
    "# Filter for reviews from the US\n",
    "us_reviews = starbucks_reviews[starbucks_reviews['Country'] == 'USA']\n",
    "# Assuming df is your DataFrame\n",
    "us_reviews.loc[:, 'Date'] = pd.to_datetime(us_reviews['Date'])\n",
    "us_reviews.set_index('Date', inplace=True)\n",
    "\n",
    "# Clean the dataset to ensure no NaN values in ratings\n",
    "df_cleaned = us_reviews.dropna(subset=['Rating'])\n",
    "# Calculate the average rating over time (monthly)\n",
    "average_rating_over_time = df_cleaned.resample('M')['Rating'].mean()\n",
    "\n",
    "# Plotting the average rating over time\n",
    "plt.figure(figsize=(12, 6))\n",
    "plt.plot(average_rating_over_time.index, average_rating_over_time, color='black', linestyle='-', linewidth=2)\n",
    "\n",
    "# Calculate the trendline (linear regression)\n",
    "x_numeric = mdates.date2num(average_rating_over_time.index)  # Convert dates to numeric format\n",
    "y = average_rating_over_time.values\n",
    "z = np.polyfit(x_numeric, np.nan_to_num(y), 1)  # Replace NaN with 0 for regression\n",
    "p = np.poly1d(z)\n",
    "\n",
    "# Plotting the trendline\n",
    "plt.plot(average_rating_over_time.index, p(x_numeric), \"r--\")\n",
    "\n",
    "# Using AutoDateLocator and AutoDateFormatter for dynamic date handling\n",
    "locator = mdates.AutoDateLocator()\n",
    "formatter = mdates.AutoDateFormatter(locator)\n",
    "plt.gca().xaxis.set_major_locator(locator)\n",
    "plt.gca().xaxis.set_major_formatter(formatter)\n",
    "\n",
    "# Enhancing the plot with labels and title\n",
    "plt.title('Average Rating Over Time', fontsize=14)\n",
    "plt.xlabel('Date', fontsize=12)\n",
    "plt.ylabel('Average Rating', fontsize=12)\n",
    "\n",
    "# Rotate and adjust layout\n",
    "plt.xticks(rotation=45)\n",
    "plt.tight_layout()\n",
    "plt.show()\n"
   ]
  },
  {
   "cell_type": "markdown",
   "metadata": {},
   "source": [
    "**4.3** _What's the distribution of customers across experience categories?_\n",
    "\n",
    "<br> When analyzing customer reviews and ratings, a common practice is to classify them into various categories based on their ratings. We'll do the same and compare if the distribution among the categories is similar to the rest of the US. \n",
    "<br> The tiers are divided like the following:\n",
    "\n",
    "| Category | Rating Range | Description |\n",
    "|---|---|---|\n",
    "| Detractors | 1-2 | Dissatisfied customers who may negatively influence others |\n",
    "| Neutrals | 3 | Neutral customers who could be converted to promoters |\n",
    "| Promoters | 4-5 | Satisfied customers who may positively influence others |\n"
   ]
  },
  {
   "cell_type": "code",
   "execution_count": 28,
   "metadata": {},
   "outputs": [
    {
     "data": {
      "image/png": "[encoded data removed]",
      "text/plain": [
       "<Figure size 1000x600 with 1 Axes>"
      ]
     },
     "metadata": {},
     "output_type": "display_data"
    }
   ],
   "source": [
    "# Create DataFrames for Florida and the rest of the US\n",
    "florida_reviews = starbucks_reviews[starbucks_reviews['State'] == 'FL']\n",
    "rest_of_us_reviews = starbucks_reviews[starbucks_reviews['State'] != 'FL']\n",
    "\n",
    "# Function to categorize rating\n",
    "def categorize_rating(rating):\n",
    "    if rating <= 2:\n",
    "        return 'Detractors'\n",
    "    elif rating == 3:\n",
    "        return 'Neutrals'\n",
    "    else:  # For ratings 4 and 5\n",
    "        return 'Promoters'\n",
    "\n",
    "# Apply the function to create a new column in the original data\n",
    "starbucks_reviews['Rating Category'] = starbucks_reviews['Rating'].apply(categorize_rating)\n",
    "\n",
    "# Calculate the count of each rating category for Florida and the rest of the US\n",
    "florida_category_counts = florida_reviews['Rating Category'].value_counts().reindex(['Detractors', 'Neutrals', 'Promoters'], fill_value=0)\n",
    "rest_of_us_category_counts = rest_of_us_reviews['Rating Category'].value_counts().reindex(['Detractors', 'Neutrals', 'Promoters'], fill_value=0)\n",
    "\n",
    "# Calculate the percentage of each category\n",
    "florida_category_percentages = (florida_category_counts / florida_category_counts.sum() * 100).round(2)\n",
    "rest_of_us_category_percentages = (rest_of_us_category_counts / rest_of_us_category_counts.sum() * 100).round(2)\n",
    "\n",
    "\n",
    "# Combine the data into a single DataFrame for plotting\n",
    "combined_categories = pd.DataFrame({\n",
    "    'Florida': florida_category_percentages,\n",
    "    'Rest of US': rest_of_us_category_percentages\n",
    "})\n",
    "\n",
    "# Plot the data\n",
    "combined_categories.plot(kind='bar', figsize=(10, 6))\n",
    "plt.title('Rating Category Distribution: Florida vs Rest of US')\n",
    "plt.xlabel('Rating Category')\n",
    "plt.ylabel('Percentage')\n",
    "plt.xticks(rotation=0)  # Rotate the x-axis labels to show them horizontally\n",
    "plt.show()"
   ]
  },
  {
   "cell_type": "markdown",
   "metadata": {},
   "source": [
    "Comparing Florida to the rest of the United States, we see some differences in the distribution between categories.\n",
    "\n",
    "This can be explained by random variance in the distribution of customers and not necessarily a different experience. While there is a difference in the distribution of customer experience levels between Florida and the rest of the US, this difference could be due to several factors other than the quality of Starbucks service in Florida. \n",
    "\n",
    "<br>For example, Florida may have a higher proportion of tourists than the rest of the U.S., and tourists may be more likely to leave negative reviews. Additionally, Florida's climate may be more conducive to outdoor dining experiences, which could lead to some negative reviews about the quality of seating or the cleanliness of outdoor spaces.\n",
    "\n",
    "To determine if the distribution is random, we need to run a statistical test."
   ]
  },
  {
   "cell_type": "code",
   "execution_count": 30,
   "metadata": {},
   "outputs": [
    {
     "name": "stdout",
     "output_type": "stream",
     "text": [
      "                 Florida  Rest of US\n",
      "Rating Category                     \n",
      "Detractors         70.83       64.34\n",
      "Neutrals            4.17        3.87\n",
      "Promoters          25.00       31.80\n"
     ]
    }
   ],
   "source": [
    "# Percentages for each rating category.\n",
    "print(combined_categories)"
   ]
  },
  {
   "cell_type": "markdown",
   "metadata": {},
   "source": [
    "\n",
    "**4.4** _Is the Florida experience rated differently than the rest of the US?_\n",
    "\n",
    "<br>Florida's distribution closely resembles that of the rest of the United States, with some minor distinctions.\n",
    "Is there a significant difference in distribution between the categories, or is it random?\n",
    "\n",
    "<br> To determine this, we will perform a statistical test called the \"Chi-square test\", this will help us determine if there is a statistically significant difference between the distributions. We set the alpha to 0.05, which means that if we get a significant result, there's a 95% probability that we can tell if there is a difference or not."
   ]
  },
  {
   "cell_type": "code",
   "execution_count": 24,
   "metadata": {},
   "outputs": [
    {
     "name": "stdout",
     "output_type": "stream",
     "text": [
      "Chi-squared test results:\n",
      "Chi-Squared Statistic: 0.9715896531511993\n",
      "P-value: 0.6152080187013901\n",
      "There is no statistically significant difference between the distributions.\n",
      "Rating Category  Detractors  Neutrals  Promoters\n",
      "State                                           \n",
      "Florida                  34         2         12\n",
      "Rest of US              516        31        255\n"
     ]
    }
   ],
   "source": [
    "import scipy.stats as stats\n",
    "## Assuming starbucks_reviews is your DataFrame and the 'Rating Category' column is already created\n",
    "\n",
    "# Create a contingency table with counts\n",
    "contingency_table = pd.crosstab(\n",
    "    starbucks_reviews['State'].apply(lambda x: 'Florida' if x == 'FL' else 'Rest of US'),\n",
    "    starbucks_reviews['Rating Category']\n",
    ")\n",
    "\n",
    "# Perform the chi-squared test\n",
    "chi2, p, dof, expected = stats.chi2_contingency(contingency_table)\n",
    "\n",
    "# Output the results\n",
    "print(\"Chi-squared test results:\")\n",
    "print(\"Chi-Squared Statistic:\", chi2)\n",
    "print(\"P-value:\", p)\n",
    "\n",
    "# Interpretation of the result\n",
    "alpha = 0.05  # Threshold for statistical significance\n",
    "if p < alpha:\n",
    "    print(\"There is a statistically significant difference between the distributions.\")\n",
    "else:\n",
    "    print(\"There is no statistically significant difference between the distributions.\")\n",
    "\n",
    "    print(contingency_table)"
   ]
  },
  {
   "cell_type": "markdown",
   "metadata": {},
   "source": [
    "> In this case, we can safely state that there is no statistically significant difference between the distributions.<br>The variances in the different distributions are too small to suggest that the experiences have been rated differently"
   ]
  },
  {
   "cell_type": "markdown",
   "metadata": {},
   "source": [
    "### **5.** Summarize reviews\n",
    "In this step, we'll use AI to create summaries of the reviews we've collected for our state.\n",
    "<br> By using Open AI's API to leverage NLP techniques, we don't have to manually go through the reviews to understand what customers are sharing about their experience.\n",
    "\n",
    "Reviewing customer feedback is crucial for understanding their needs and enhancing your business results and customer experience. But reading hundreds or thousands of reviews manually is not efficient or possible without significant resources. Leveraging AI methods like this saves us time and lets us act quickly and monitor for potential changes."
   ]
  },
  {
   "cell_type": "code",
   "execution_count": 32,
   "metadata": {},
   "outputs": [],
   "source": [
    "# Import the function used to summarize the text\n",
    "import openai\n",
    "from openai_summarizer import summarize_reviews\n",
    "\n",
    "# Import the token calculation function from the script to determine if you need to split the dataset into chunks to be able to generate summarizations60\n",
    "from token_calculation1 import check_and_split_dataframe\n",
    "from token_calculation1 import split_dataframe\n",
    "from token_calculation1 import calculate_tokens"
   ]
  },
  {
   "cell_type": "markdown",
   "metadata": {},
   "source": [
    "First, we split the customers into two different categories, Detractors and Promoters."
   ]
  },
  {
   "cell_type": "code",
   "execution_count": 33,
   "metadata": {},
   "outputs": [],
   "source": [
    "# Split dataframe into negative, neutral and positive reviews\n",
    "fl_negative_reviews = florida_reviews[florida_reviews['Rating'] < 3] \n",
    "\n",
    "fl_positive_reviews = florida_reviews[florida_reviews['Rating']> 3]"
   ]
  },
  {
   "cell_type": "markdown",
   "metadata": {},
   "source": [
    "After dividing the reviews into positive and negative subsets, this step focuses on analyzing the negative reviews to identify key issues and gain insight into customer concerns.  We use the check_and_split_dataframe function to break down negative reviews into smaller parts, if needed, to ensure compatibility with the AI model's input limitations, you can read more [here](https://platform.openai.com/docs/guides/fine-tuning/token-limits). This promotes effective processing of negative reviews while maintaining the context of each review.\n",
    "\n",
    "\n",
    "The script defines a static prompt that guides the AI model to generate a summary and identify the top five issues from the negative reviews. This prompt offers clear instructions to the AI model to focus on the negative aspects of the customer experience and extract the most critical points of feedback.\n",
    "\n",
    "By analyzing the negative reviews, the script aims to uncover common themes, recurring issues, and areas where the company can improve its products, services, or overall customer experience. This feedback can inform decision-making and lead to targeted improvements that address customer concerns and increase satisfaction.\n",
    "\n",
    "For this project we are using the model [text-davinci-003](https://platform.openai.com/docs/models/gpt-3-5). A model which is great for understanding and generating natural language. Which makes it well suited for tasks such as summarizing text and extracting key information from reviews. "
   ]
  },
  {
   "cell_type": "code",
   "execution_count": 34,
   "metadata": {},
   "outputs": [],
   "source": [
    "# Define your static prompt\n",
    "static_prompt = \"Analyze the negative reviews and provide a summary and a list of the top 5 main issues:\"\n",
    "\n",
    "# Calculate the prompt length (number of tokens in the static part of the prompt)\n",
    "prompt_length = len(static_prompt.split())\n",
    "\n",
    "# Set the maximum number of tokens for the AI's response (adjust as needed)\n",
    "max_tokens_for_completion = 200\n",
    "\n",
    "# Use the check_and_split_dataframe function to either split your DataFrame into chunks or return it as is\n",
    "chunks_fl_negative_reviews = check_and_split_dataframe(fl_negative_reviews, 'Review', prompt_length, max_tokens_for_completion)\n",
    "\n",
    "# Now you can process each chunk separately for summarization\n"
   ]
  },
  {
   "cell_type": "markdown",
   "metadata": {},
   "source": [
    "**Summarize individual chunks of reviews**\n",
    "\n",
    "This step uses a function called \"summarize_reviews\" to create summaries for each chunk of reviews. <br>The generated summary is then printed or saved for further analysis."
   ]
  },
  {
   "cell_type": "code",
   "execution_count": 40,
   "metadata": {},
   "outputs": [
    {
     "name": "stdout",
     "output_type": "stream",
     "text": [
      "Summarizing chunk 1/2...\n",
      "Chunk 1 Summary:\n",
      "This analysis of negative reviews of [name] found five main issues: 1) staff being rude and not accommodating requests, 2) food/drinks being incorrect and/or made with unclean materials, 3) poor customer service, 4) small portions and prices too high for the quality of the product, and 5) staff not understanding/being honest about the term \"organic\". In addition, there were issues with the store being dirty, employees not being properly trained, and the reloading of rewards cards not working properly.\n",
      "\n",
      "Summarizing chunk 2/2...\n",
      "Chunk 2 Summary:\n",
      "Summary:\n",
      "\n",
      "This analysis of negative reviews of a product reveals a range of issues that customers are facing, such as difficulty using gift cards, receiving unwanted ads, poor customer service, and incorrect orders. The top 5 main issues identified include difficulty using gift cards, unwanted ads, rude customer service, incorrect orders, and lack of apologies from employees.\n",
      "\n"
     ]
    }
   ],
   "source": [
    "# Assuming you have the summarize_reviews function defined and imported\n",
    "# And assuming you have the API_KEY set\n",
    "\n",
    "for index, chunk in enumerate(chunks_fl_negative_reviews):\n",
    "    print(f\"Summarizing chunk {index+1}/{len(chunks_fl_negative_reviews)}...\")\n",
    "\n",
    "    try:\n",
    "        # Combine the reviews for the current chunk\n",
    "        combined_reviews = ' '.join(chunk['Review'])\n",
    "\n",
    "        # Generate the full prompt for the current chunk\n",
    "        full_prompt = static_prompt + \" \" + combined_reviews\n",
    "\n",
    "        # Summarize the current chunk\n",
    "        chunk_summary = summarize_reviews(API_KEY, full_prompt)\n",
    "\n",
    "        # Print or store the summary\n",
    "        print(f\"Chunk {index+1} Summary:\\n{chunk_summary}\\n\")\n",
    "\n",
    "    except Exception as e:\n",
    "        print(f\"An error occurred while summarizing chunk {index+1}: {e}\")\n"
   ]
  },
  {
   "cell_type": "markdown",
   "metadata": {},
   "source": [
    "**Generate a Summary** \n",
    "\n",
    "This step involves combining the individual summaries into an overview of the negative reviews. The script combines all the chunk summaries and feeds them as input to the summarize_reviews function, along with a prompt that instructs the AI model to generate a final overview summary.\n",
    "\n",
    "The final overview summary highlights the top 5 issues identified from the negative reviews, providing a quick overview of the most common customer pain points. It helps determine which areas need improvement and how to address customer dissatisfaction.\n",
    "\n",
    "Overall, this step concludes the analysis of negative reviews by offering a concise and practical overview of the customer feedback, which helps make informed decisions to improve customer satisfaction."
   ]
  },
  {
   "cell_type": "code",
   "execution_count": 41,
   "metadata": {},
   "outputs": [
    {
     "name": "stdout",
     "output_type": "stream",
     "text": [
      "Final Overview Summary:\n",
      "Overall, customers have had many issues with the [name] chain. The top 5 main issues are: \n",
      "1. Quality of Coffee \n",
      "2. Poor Service \n",
      "3. Cleanliness of Locations \n",
      "4. Overcharging \n",
      "5. Incorrect Orders\n"
     ]
    }
   ],
   "source": [
    "# Assuming you have a list of DataFrames in chunks_ca_negative_reviews\n",
    "summaries = []\n",
    "for chunk in chunks_fl_negative_reviews:\n",
    "    # Generate a summary for each chunk\n",
    "    # You might need to format the text of each review in the chunk properly\n",
    "    combined_reviews = ' '.join(chunk['Review'])\n",
    "    chunk_summary = summarize_reviews(API_KEY, \"Analyze the reviews and provide a summary:\" + combined_reviews)\n",
    "    summaries.append(chunk_summary)\n",
    "\n",
    "# Step 2: Aggregate individual summaries\n",
    "aggregated_summaries = \"\\n\\n\".join(summaries)\n",
    "\n",
    "# Step 3: Apply the summarization function for the final overview \n",
    "final_overview_summary = summarize_reviews(API_KEY, \"Analyze the summary of the reviews and provide a summary and a list of the top 5 main issues from the following summaries: \" + aggregated_summaries)\n",
    "\n",
    "# Output the final overview summary\n",
    "print(\"Final Overview Summary:\")\n",
    "print(final_overview_summary)"
   ]
  },
  {
   "cell_type": "markdown",
   "metadata": {},
   "source": [
    "**Examine Favorable Reviews**\n",
    "\n",
    "After reviewing the negative reviews, it's important to drill down into the positive reviews to gain insight into the aspects and features that customers value. To ensure compatibility with the limitations of the AI model's inputs, this process utilizes the check_and_split_dataframe function to break down the positive reviews into smaller sections as needed.\n",
    "\n",
    "Similar to the analysis of negative reviews, a prompt guides the AI model to identify the top five aspects or features praised from the positive reviews. This helps the AI model focus on positive aspects of customer experience and extract the most notable elements of satisfaction.\n",
    "\n",
    "Analyzing positive reviews aims to uncover common themes, frequently praised features, and areas where the business excels. This feedback can then be used to inform decision making and drive targeted initiatives to increase customer satisfaction and loyalty."
   ]
  },
  {
   "cell_type": "code",
   "execution_count": 42,
   "metadata": {},
   "outputs": [],
   "source": [
    "# Define your static prompt for positive reviews\n",
    "static_prompt = \"Analyze the reviews and provide a summary of the top 5 praised aspects or features:\"\n",
    "\n",
    "# Calculate the prompt length (number of tokens in the static part of the prompt)\n",
    "prompt_length = len(static_prompt.split())\n",
    "\n",
    "# Set the maximum number of tokens for the AI's response (adjust as needed)\n",
    "max_tokens_for_completion = 200\n",
    "\n",
    "# Use the function to either split your DataFrame into chunks or return it as is\n",
    "chunks_fl_positive_reviews = check_and_split_dataframe(fl_positive_reviews, 'Review', prompt_length, max_tokens_for_completion)"
   ]
  },
  {
   "cell_type": "markdown",
   "metadata": {},
   "source": [
    "**Summarize individual positive review chunks**\n",
    "\n",
    "This step replicates the negative review analysis process by summarizing individual chunks of positive reviews. It provides valuable insights into the elements that contribute to customer satisfaction. The function is guided by a fixed prompt and combined reviews for each chunk.\n",
    "\n",
    "We extract the popular themes and features that customers value by systematically summarizing the positive reviews."
   ]
  },
  {
   "cell_type": "code",
   "execution_count": 43,
   "metadata": {},
   "outputs": [
    {
     "name": "stdout",
     "output_type": "stream",
     "text": [
      "Summarizing chunk 1/1...\n",
      "Chunk 1 Summary:\n",
      "was great.\n",
      "\n",
      "The top 5 praised aspects or features of the reviews include:\n",
      "1. Excellent customer service - baristas are great, efficient, knowledgeable and get everything quickly done.\n",
      "2. Variety of drinks - plenty of choices for hot and cold drinks, as well as breakfast and lunch items to fit anyone's palate.\n",
      "3. Quality of coffee - coffee is made as desired and is of excellent quality.\n",
      "4. Helpful employees - employees are willing to help customers decide what they want or try to come close.\n",
      "5. Quick resolution of issues - employees are quick to resolve customers' issues and pleasant when doing so.\n",
      "\n"
     ]
    }
   ],
   "source": [
    "# Assuming you have the summarize_reviews function defined and imported\n",
    "# And assuming you have the API_KEY set\n",
    "\n",
    "for index, chunk in enumerate(chunks_fl_positive_reviews):\n",
    "    print(f\"Summarizing chunk {index+1}/{len(chunks_fl_positive_reviews)}...\")\n",
    "\n",
    "    try:\n",
    "        # Combine the reviews for the current chunk\n",
    "        combined_reviews = ' '.join(chunk['Review'])\n",
    "\n",
    "        # Generate the full prompt for the current chunk\n",
    "        full_prompt = static_prompt + \" \" + combined_reviews\n",
    "\n",
    "        # Summarize the current chunk\n",
    "        chunk_summary = summarize_reviews(API_KEY, full_prompt)\n",
    "\n",
    "        # Print or store the summary\n",
    "        print(f\"Chunk {index+1} Summary:\\n{chunk_summary}\\n\")\n",
    "\n",
    "    except Exception as e:\n",
    "        print(f\"An error occurred while summarizing chunk {index+1}: {e}\")\n"
   ]
  },
  {
   "cell_type": "markdown",
   "metadata": {},
   "source": [
    "**Generate a summary**\n",
    "\n",
    "This step completes the positive review analysis by generating an overall summary of the top five praised aspects or features. The script constructs a comprehensive prompt by combining the static prompt template with the aggregated positive reviews and passes it to the summarize_reviews function. The resulting summary provides a concise and comprehensive understanding of the key positive aspects that contribute to customer satisfaction.\n",
    "\n",
    "The summary of positive reviews highlights the most frequently praised elements of the positive reviews, providing a quick overview of the company's strengths as perceived by customers. The summary is a useful resource for recognizing excellent areas, increasing customer satisfaction, and potentially enhancing customer loyalty.\n",
    "\n",
    "In essence, this step completes the positive review analysis process by providing a distilled and actionable overview of the positive customer feedback, allowing informed decision-making to nurture customer satisfaction and loyalty."
   ]
  },
  {
   "cell_type": "code",
   "execution_count": 108,
   "metadata": {},
   "outputs": [
    {
     "name": "stdout",
     "output_type": "stream",
     "text": [
      "Summary of Reviews:\n",
      "The top five praised aspects or features of [name] are: \n",
      "1. Quality of service \n",
      "2. Selection of coffee, tea, and food items \n",
      "3. Pleasant atmosphere \n",
      "4. Consistent products \n",
      "5. Friendly and courteous staff.\n"
     ]
    }
   ],
   "source": [
    "# Prepare the full prompt\n",
    "prompt_template = \"Analyze the reviews and provide a summary of the top 5 praised aspects or features:\"\n",
    "reviews = \" \".join(ca_positive_reviews['Review'])  # Assuming 'your_dataframe' is your DataFrame and 'review_column' is the column with reviews\n",
    "full_prompt = prompt_template + \" \" + reviews\n",
    "\n",
    "# Call the function\n",
    "api_key = API_KEY  # Replace with your actual API key\n",
    "summary = summarize_reviews(api_key, full_prompt)\n",
    "\n",
    "# Output the summary\n",
    "print(\"Summary of Reviews:\")\n",
    "print(summary)\n"
   ]
  },
  {
   "cell_type": "markdown",
   "metadata": {},
   "source": [
    "## **Analysis of Customer Reviews for _Starbucks_**\n",
    "\n",
    "Overall Customer Experience\n",
    "\n",
    "Customers have mixed experiences of Starbucks. Positive reviews praise the excellent customer service, variety of drinks, quality of coffee, helpful employees, and quick resolution of issues. However, negative reviews highlight issues with the quality of coffee, poor service, cleanliness of locations, overcharging, and incorrect orders.\n",
    "\n",
    "**Key Findings**\n",
    "| Aspect | Positive Reviews | Negative Reviews |\n",
    "|---|---|---|\n",
    "| Customer service | Excellent, efficient, knowledgeable, and get everything quickly done | Poor, slow, and not helpful |\n",
    "| Variety of drinks | Plenty of choices for hot and cold drinks, as well as breakfast and lunch items | Limited selection of drinks and food |\n",
    "| Quality of coffee | Made as desired and is of excellent quality | Subpar quality, inconsistently made |\n",
    "| Employees | Helpful, willing to help customers decide what they want or try to come close | Unfriendly, not knowledgeable, and not willing to help |\n",
    "| Resolution of issues | Quick and pleasant | Slow, rude, and not willing to resolve issues |\n",
    "\n",
    "**Recommendations**\n",
    "* Focus on improving the quality of the coffee served, as this is the most frequent complaint among dissatisfied customers.\n",
    "* Improve customer service by requiring employees to communicate with customers in a more friendly, knowledgeable, and helpful manner.\n",
    "* Increase the variety of beverages and food. This would give customers more options to choose from.\n",
    "* Address cleanliness issues. Make sure that stores are clean and well-maintained.\n",
    "* Be more thorough with orders. This will decrease the amount of incorrect orders.\n",
    "* Train employees on how to resolve issues quickly and efficiently."
   ]
  }
 ],
 "metadata": {
  "kernelspec": {
   "display_name": "dsenv",
   "language": "python",
   "name": "python3"
  },
  "language_info": {
   "codemirror_mode": {
    "name": "ipython",
    "version": 3
   },
   "file_extension": ".py",
   "mimetype": "text/x-python",
   "name": "python",
   "nbconvert_exporter": "python",
   "pygments_lexer": "ipython3",
   "version": "3.10.4"
  }
 },
 "nbformat": 4,
 "nbformat_minor": 2
}
